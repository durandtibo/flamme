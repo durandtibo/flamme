{
 "cells": [
  {
   "cell_type": "code",
   "execution_count": null,
   "id": "751cb2fb-d215-44fd-90ae-3807f2f23f58",
   "metadata": {},
   "outputs": [],
   "source": [
    "%matplotlib inline"
   ]
  },
  {
   "cell_type": "code",
   "execution_count": null,
   "id": "6f43e56d-7bb0-4b92-8192-04c49ddd0bad",
   "metadata": {},
   "outputs": [],
   "source": [
    "import datetime\n",
    "import math\n",
    "\n",
    "import matplotlib.pyplot as plt\n",
    "import numpy as np\n",
    "import polars as pl\n",
    "from grizz.utils.interval import interval_to_strftime_format\n",
    "\n",
    "from flamme import plot\n",
    "from flamme.plot.utils import readable_xticklabels\n",
    "from flamme.plot.utils.hist import find_nbins\n",
    "from flamme.section.continuous_drift import create_temporal_drift_figure\n",
    "from flamme.utils.data import datetime_range"
   ]
  },
  {
   "cell_type": "code",
   "execution_count": null,
   "id": "3722bab3-5696-4ff9-95e1-ae8f87e9b5b8",
   "metadata": {},
   "outputs": [],
   "source": [
    "plt.style.use(\"bmh\")\n",
    "plt.rcParams[\"figure.figsize\"] = (16, 5)"
   ]
  },
  {
   "cell_type": "code",
   "execution_count": null,
   "id": "086b8840-fd9a-4b35-a8d2-50a959aae677",
   "metadata": {},
   "outputs": [],
   "source": [
    "random_seed = 15803713921897248048\n",
    "rng = np.random.default_rng()"
   ]
  },
  {
   "cell_type": "markdown",
   "id": "8beae241-434a-467f-bca4-101a18b49ad9",
   "metadata": {},
   "source": [
    "## plot_cdf"
   ]
  },
  {
   "cell_type": "code",
   "execution_count": null,
   "id": "3593a679-620c-453c-9f43-6f2db765b301",
   "metadata": {},
   "outputs": [],
   "source": [
    "fig, ax = plt.subplots()\n",
    "array = rng.standard_normal(100000)\n",
    "plot.plot_cdf(ax=ax, array=array)"
   ]
  },
  {
   "cell_type": "markdown",
   "id": "73a7fbb2-d6e8-44e0-b9bf-a73cedaabceb",
   "metadata": {},
   "source": [
    "## hist_continuous"
   ]
  },
  {
   "cell_type": "code",
   "execution_count": null,
   "id": "0859e2a3-494b-4a0f-a6b9-3ac6911a6fa3",
   "metadata": {},
   "outputs": [],
   "source": [
    "fig, ax = plt.subplots()\n",
    "array = rng.standard_normal(100000)\n",
    "plot.hist_continuous(ax=ax, array=array, nbins=201, cdf=False, quantile=False)"
   ]
  },
  {
   "cell_type": "code",
   "execution_count": null,
   "id": "5192ebc5-14e9-4ca5-92e5-ecbbc54ffd12",
   "metadata": {},
   "outputs": [],
   "source": [
    "fig, ax = plt.subplots()\n",
    "array = rng.standard_normal(100000)\n",
    "plot.hist_continuous(ax=ax, array=array, nbins=201)"
   ]
  },
  {
   "cell_type": "code",
   "execution_count": null,
   "id": "f0c4aab8-9aa3-422e-b74d-2952dd054705",
   "metadata": {},
   "outputs": [],
   "source": [
    "fig, ax = plt.subplots()\n",
    "array = rng.standard_cauchy(100000)\n",
    "plot.hist_continuous(ax=ax, array=array, nbins=201, xmin=\"q0.02\", xmax=\"q0.98\")"
   ]
  },
  {
   "cell_type": "code",
   "execution_count": null,
   "id": "2860495a-0ae9-4cab-96ed-c65c02727da2",
   "metadata": {},
   "outputs": [],
   "source": [
    "array = rng.integers(low=0, high=101, size=(100000,))\n",
    "fig, ax = plt.subplots()\n",
    "plot.hist_continuous(ax=ax, array=array, nbins=1000)"
   ]
  },
  {
   "cell_type": "code",
   "execution_count": null,
   "id": "8792082b-54dc-4b25-ac32-d2ce6a6b9c56",
   "metadata": {},
   "outputs": [],
   "source": [
    "array = rng.integers(low=0, high=101, size=(100000,))\n",
    "nbins = find_nbins(bin_size=1, min=np.min(array), max=np.max(array))\n",
    "fig, ax = plt.subplots()\n",
    "plot.hist_continuous(ax=ax, array=array, nbins=nbins)"
   ]
  },
  {
   "cell_type": "markdown",
   "id": "fbf179d3-4505-4d29-a588-7389afb30e31",
   "metadata": {},
   "source": [
    "## hist_continuous2"
   ]
  },
  {
   "cell_type": "code",
   "execution_count": null,
   "id": "d24fd28a-22d5-4172-bbf8-6d7c8cfc3d0a",
   "metadata": {},
   "outputs": [],
   "source": [
    "fig, ax = plt.subplots()\n",
    "array1 = rng.standard_normal(1000000)\n",
    "array2 = rng.standard_normal(100000) * 0.7 + 0.2\n",
    "plot.hist_continuous2(ax=ax, array1=array1, array2=array2, nbins=201)"
   ]
  },
  {
   "cell_type": "code",
   "execution_count": null,
   "id": "67350be6-7959-4086-a465-71d83d1b684b",
   "metadata": {},
   "outputs": [],
   "source": [
    "fig, ax = plt.subplots()\n",
    "plot.hist_continuous2(ax=ax, array1=array1, array2=array2, nbins=201, density=True)"
   ]
  },
  {
   "cell_type": "markdown",
   "id": "5dcd3ed8-6e54-4dd7-8345-f9194ad2514c",
   "metadata": {},
   "source": [
    "## boxplot_continuous"
   ]
  },
  {
   "cell_type": "code",
   "execution_count": null,
   "id": "11499d82-865c-4751-bcfd-e0d75a6d7310",
   "metadata": {},
   "outputs": [],
   "source": [
    "fig, ax = plt.subplots()\n",
    "array = rng.standard_normal(100000)\n",
    "plot.boxplot_continuous(ax=ax, array=array)"
   ]
  },
  {
   "cell_type": "markdown",
   "id": "45d08b77-c166-4673-bf98-7edf127e72f9",
   "metadata": {},
   "source": [
    "## boxplot_continuous_temporal"
   ]
  },
  {
   "cell_type": "code",
   "execution_count": null,
   "id": "efd0cadb-5ec4-4141-bede-841f6c2d1179",
   "metadata": {},
   "outputs": [],
   "source": [
    "fig, ax = plt.subplots()\n",
    "data = [\n",
    "    rng.standard_normal(1000) * (2 + math.cos(i)) + 2 * math.sin(i) + 0.5 * i for i in range(10)\n",
    "]\n",
    "plot.boxplot_continuous_temporal(ax=ax, data=data, steps=list(range(len(data))))"
   ]
  },
  {
   "cell_type": "markdown",
   "id": "5cb4ee9d-0123-450e-9d69-cdfe8ae117c1",
   "metadata": {},
   "source": [
    "## plot_null_temporal"
   ]
  },
  {
   "cell_type": "code",
   "execution_count": null,
   "id": "5740e73e-a8ef-4a9d-9113-74eb13d7b86c",
   "metadata": {},
   "outputs": [],
   "source": [
    "n = 100\n",
    "values = list(range(n))\n",
    "nulls = [math.cos(x * 0.5) * 50 + 100 for x in values]\n",
    "totals = [math.cos(x * 0.5) * 50 + 200 + 2 * x for x in values]\n",
    "labels = datetime_range(\n",
    "    start=datetime.datetime(year=2017, month=1, day=1, tzinfo=datetime.timezone.utc),\n",
    "    periods=n,\n",
    "    interval=\"1d\",\n",
    "    eager=True,\n",
    ")\n",
    "\n",
    "fig, ax = plt.subplots()\n",
    "plot.plot_null_temporal(ax=ax, nulls=nulls, totals=totals, labels=labels)\n",
    "readable_xticklabels(ax)"
   ]
  },
  {
   "cell_type": "code",
   "execution_count": null,
   "id": "aa448cf6-a3c9-490f-97b2-41ae1f116c73",
   "metadata": {},
   "outputs": [],
   "source": []
  },
  {
   "cell_type": "code",
   "execution_count": null,
   "id": "ffa4a7f7-bdba-4387-b1fa-0b1872bcfbca",
   "metadata": {},
   "outputs": [],
   "source": [
    "n = 100000\n",
    "values = rng.standard_normal(n) + np.arange(n) * 0.001\n",
    "frame = pl.DataFrame(\n",
    "    {\n",
    "        \"value\": values,\n",
    "        \"date\": datetime_range(\n",
    "            start=datetime.datetime(year=2017, month=1, day=1, tzinfo=datetime.timezone.utc),\n",
    "            periods=n,\n",
    "            interval=\"2m\",\n",
    "            eager=True,\n",
    "        ),\n",
    "    }\n",
    ")\n",
    "_ = create_temporal_drift_figure(\n",
    "    frame, column=\"value\", dt_column=\"date\", period=\"1mo\", figsize=(16, 5), nbins=301\n",
    ")"
   ]
  },
  {
   "cell_type": "code",
   "execution_count": null,
   "id": "9b579a15-8268-4061-a2b8-e4f9e3a93d2c",
   "metadata": {},
   "outputs": [],
   "source": []
  },
  {
   "cell_type": "markdown",
   "id": "e120d36f-9484-4e4c-b026-8e838f4d166d",
   "metadata": {},
   "source": [
    "## bar_discrete"
   ]
  },
  {
   "cell_type": "code",
   "execution_count": null,
   "id": "b7206ef8-601e-4207-8eca-2f576fd5a73e",
   "metadata": {},
   "outputs": [],
   "source": [
    "fig, ax = plt.subplots()\n",
    "plot.bar_discrete(ax, names=[\"a\", \"b\", \"c\", \"d\"], counts=[5, 100, 42, 27])"
   ]
  },
  {
   "cell_type": "code",
   "execution_count": null,
   "id": "ef2df332-1532-4bd1-8dcd-71697245ed4c",
   "metadata": {},
   "outputs": [],
   "source": [
    "fig, ax = plt.subplots()\n",
    "plot.bar_discrete(ax, names=[\"a\", \"b\", \"c\", \"d\"], counts=[5, 1001, 42, 27])"
   ]
  },
  {
   "cell_type": "markdown",
   "id": "c9f48f51-c377-4fb5-9bcd-11595e2a508b",
   "metadata": {},
   "source": [
    "## bar_discrete_temporal"
   ]
  },
  {
   "cell_type": "code",
   "execution_count": null,
   "id": "08accef8-4229-4f1c-802f-b7a22a491424",
   "metadata": {},
   "outputs": [],
   "source": [
    "num_values, num_steps = 5, 100\n",
    "counts = np.abs(5 + 2 * rng.standard_normal(size=(num_values, num_steps)))\n",
    "\n",
    "values = [f\"value{i}\" for i in range(num_values)]\n",
    "period = \"6h\"\n",
    "steps = pl.datetime_range(\n",
    "    start=datetime.datetime(year=2018, month=1, day=1, tzinfo=datetime.timezone.utc),\n",
    "    end=datetime.datetime(year=2018, month=1, day=1, tzinfo=datetime.timezone.utc)\n",
    "    + datetime.timedelta(hours=6 * num_steps - 1),\n",
    "    interval=period,\n",
    "    eager=True,\n",
    ")\n",
    "format_dt = interval_to_strftime_format(period)\n",
    "steps = [step.strftime(format_dt) for step in steps]\n",
    "\n",
    "fig, ax = plt.subplots()\n",
    "plot.bar_discrete_temporal(ax=ax, counts=counts, values=values, steps=steps)"
   ]
  },
  {
   "cell_type": "code",
   "execution_count": null,
   "id": "270acfb1-c7cf-4002-a5e9-f7ce500eb8a7",
   "metadata": {},
   "outputs": [],
   "source": [
    "fig, ax = plt.subplots()\n",
    "plot.bar_discrete_temporal(ax=ax, counts=counts, values=values, steps=steps, proportion=True)"
   ]
  },
  {
   "cell_type": "code",
   "execution_count": null,
   "id": "07fb0f18-903c-4971-9a09-ce5473a5ba3e",
   "metadata": {},
   "outputs": [],
   "source": []
  },
  {
   "cell_type": "code",
   "execution_count": null,
   "id": "ec746a80-570b-4331-aef5-d6fbdd3b0813",
   "metadata": {},
   "outputs": [],
   "source": []
  },
  {
   "cell_type": "code",
   "execution_count": null,
   "id": "c976db11-52bf-4dd3-9e2d-61256dce8968",
   "metadata": {},
   "outputs": [],
   "source": []
  },
  {
   "cell_type": "code",
   "execution_count": null,
   "id": "5e10689f-6398-4801-a4fc-ec423c25f8f6",
   "metadata": {},
   "outputs": [],
   "source": []
  }
 ],
 "metadata": {
  "kernelspec": {
   "display_name": "Python 3 (ipykernel)",
   "language": "python",
   "name": "python3"
  },
  "language_info": {
   "codemirror_mode": {
    "name": "ipython",
    "version": 3
   },
   "file_extension": ".py",
   "mimetype": "text/x-python",
   "name": "python",
   "nbconvert_exporter": "python",
   "pygments_lexer": "ipython3",
   "version": "3.12.2"
  }
 },
 "nbformat": 4,
 "nbformat_minor": 5
}
